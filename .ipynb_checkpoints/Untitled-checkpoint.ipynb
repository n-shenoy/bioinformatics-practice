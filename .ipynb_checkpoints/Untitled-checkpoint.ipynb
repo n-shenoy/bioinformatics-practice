{
 "cells": [
  {
   "cell_type": "code",
   "execution_count": null,
   "id": "6ab2389c-2439-4048-8829-3cb44fad40da",
   "metadata": {},
   "outputs": [],
   "source": [
    "def reverse_palindrome(string, min_length, max_length):\n",
    "    \"\"\" return the positions and lengths of all reverse palindromes\n",
    "        occuring in a string \"\"\"\n",
    "    palindromes = []  # [(position, length of the reverse palindrome)]\n",
    "\n",
    "    # find the complement of the DNA string\n",
    "    complement = ''\n",
    "    base_complement = {'A':'T', 'T':'A', \n",
    "                        'G':'C', 'C':'G'}\n",
    "    for base in string:\n",
    "        complement = complement + base_complement[base]\n",
    "\n",
    "    # compare each possible substring of the string \n",
    "    # with that of the complement in reverse:\n",
    "    for i in range(len(string)-min_length):\n",
    "        # look for substrings of lengths within a given range:\n",
    "        for j in range(min_length,max_length+1):\n",
    "            # traverse both strings in the forward direction, but\n",
    "            # compare each substring of the original string with the\n",
    "            # reverse of the corresponding substring of the complement\n",
    "            if string[i:i+j] == complement[i:i+j][::-1]:\n",
    "                if len(string) > (i+j):\n",
    "                    palindromes.append((i+1,j))\n",
    "                else:\n",
    "                    palindromes.append((i+1,len(string)-i))\n",
    "    return set(palindromes) # return all unique reverse palindromes\n",
    "\n",
    "# testing\n",
    "string = 'TCAATGCATGCGGGTCTATATGCAT'\n",
    "palindromes = reverse_palindrome(string, min_length = 4, max_length = 12)\n",
    "#for position, length in palindromes: print(position, length)\n",
    "# Output: \n",
    "# 4 6\n",
    "# 5 4\n",
    "# 6 6\n",
    "# 7 4\n",
    "# 17 4\n",
    "# 18 4\n",
    "# 20 6\n",
    "# 21 4\n",
    "\n",
    "def readGenome(filename):\n",
    "    genome = ''\n",
    "    with open(filename, 'r') as f:    # f is the name for the filename variable\n",
    "        for line in f:\n",
    "            if line[0] != '>':\n",
    "                genome += line.rstrip() # rstrip removes spaces, tabs, \\n\n",
    "    return genome\n",
    " \n",
    "#filename = open('rosalind_revp.txt')\n",
    "\n",
    "dna = readGenome('rosalind_revp.txt')\n",
    "\n",
    "palindromes = reverse_palindrome(dna, min_length = 4, max_length = 12)\n",
    "for position, length in palindromes: print(position, length)"
   ]
  }
 ],
 "metadata": {
  "kernelspec": {
   "display_name": "Python 3 (ipykernel)",
   "language": "python",
   "name": "python3"
  },
  "language_info": {
   "codemirror_mode": {
    "name": "ipython",
    "version": 3
   },
   "file_extension": ".py",
   "mimetype": "text/x-python",
   "name": "python",
   "nbconvert_exporter": "python",
   "pygments_lexer": "ipython3",
   "version": "3.8.10"
  }
 },
 "nbformat": 4,
 "nbformat_minor": 5
}
